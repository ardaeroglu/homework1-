{
 "cells": [
  {
   "cell_type": "code",
   "execution_count": 3,
   "id": "b3b2032b",
   "metadata": {},
   "outputs": [],
   "source": [
    "limon_fiyat = 15"
   ]
  },
  {
   "cell_type": "code",
   "execution_count": 4,
   "id": "127bf508",
   "metadata": {},
   "outputs": [],
   "source": [
    "s1 = limon_fiyat * 100"
   ]
  },
  {
   "cell_type": "code",
   "execution_count": 5,
   "id": "eaa7d400",
   "metadata": {},
   "outputs": [],
   "source": [
    "s2 = limon_fiyat * 80"
   ]
  },
  {
   "cell_type": "code",
   "execution_count": 6,
   "id": "5fb6eb32",
   "metadata": {},
   "outputs": [],
   "source": [
    "s3 = limon_fiyat * 45"
   ]
  },
  {
   "cell_type": "code",
   "execution_count": 7,
   "id": "26d379db",
   "metadata": {},
   "outputs": [
    {
     "name": "stdout",
     "output_type": "stream",
     "text": [
      "1500\n"
     ]
    }
   ],
   "source": [
    "print(s1)"
   ]
  },
  {
   "cell_type": "code",
   "execution_count": 8,
   "id": "a1741085",
   "metadata": {},
   "outputs": [
    {
     "name": "stdout",
     "output_type": "stream",
     "text": [
      "1200\n"
     ]
    }
   ],
   "source": [
    "print(s2)"
   ]
  },
  {
   "cell_type": "code",
   "execution_count": 9,
   "id": "09276d6a",
   "metadata": {},
   "outputs": [
    {
     "name": "stdout",
     "output_type": "stream",
     "text": [
      "675\n"
     ]
    }
   ],
   "source": [
    "print(s3)"
   ]
  },
  {
   "cell_type": "code",
   "execution_count": null,
   "id": "007e7ca7",
   "metadata": {},
   "outputs": [],
   "source": []
  }
 ],
 "metadata": {
  "kernelspec": {
   "display_name": "Python 3",
   "language": "python",
   "name": "python3"
  },
  "language_info": {
   "codemirror_mode": {
    "name": "ipython",
    "version": 3
   },
   "file_extension": ".py",
   "mimetype": "text/x-python",
   "name": "python",
   "nbconvert_exporter": "python",
   "pygments_lexer": "ipython3",
   "version": "3.12.6"
  }
 },
 "nbformat": 4,
 "nbformat_minor": 5
}
